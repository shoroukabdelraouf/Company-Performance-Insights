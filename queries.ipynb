{
 "cells": [
  {
   "cell_type": "code",
   "execution_count": 3,
   "id": "d53bfa32-9c98-4d09-ac3d-d74255f29676",
   "metadata": {},
   "outputs": [],
   "source": [
    "import pandas as pd"
   ]
  },
  {
   "cell_type": "code",
   "execution_count": 4,
   "id": "eee4c51b-715a-4a24-8462-2972da1f8d2b",
   "metadata": {},
   "outputs": [
    {
     "name": "stdout",
     "output_type": "stream",
     "text": [
      "Requirement already satisfied: pandas in c:\\users\\shoroukabdelraouf\\miniconda3\\lib\\site-packages (2.2.1)\n",
      "Requirement already satisfied: numpy<2,>=1.26.0 in c:\\users\\shoroukabdelraouf\\miniconda3\\lib\\site-packages (from pandas) (1.26.4)\n",
      "Requirement already satisfied: python-dateutil>=2.8.2 in c:\\users\\shoroukabdelraouf\\miniconda3\\lib\\site-packages (from pandas) (2.9.0.post0)\n",
      "Requirement already satisfied: pytz>=2020.1 in c:\\users\\shoroukabdelraouf\\miniconda3\\lib\\site-packages (from pandas) (2024.1)\n",
      "Requirement already satisfied: tzdata>=2022.7 in c:\\users\\shoroukabdelraouf\\miniconda3\\lib\\site-packages (from pandas) (2024.1)\n",
      "Requirement already satisfied: six>=1.5 in c:\\users\\shoroukabdelraouf\\miniconda3\\lib\\site-packages (from python-dateutil>=2.8.2->pandas) (1.16.0)\n",
      "Note: you may need to restart the kernel to use updated packages.\n"
     ]
    }
   ],
   "source": [
    "pip install pandas"
   ]
  },
  {
   "cell_type": "code",
   "execution_count": 5,
   "id": "03c69c0b-bb53-43c4-a81d-0ddd73ca09b0",
   "metadata": {},
   "outputs": [],
   "source": [
    "Cust_data=pd.read_csv('CustomerLoyaltyMemberDetails.csv')\n"
   ]
  },
  {
   "cell_type": "code",
   "execution_count": 6,
   "id": "85c4a216-276f-4c28-88c2-c1b053391a34",
   "metadata": {},
   "outputs": [
    {
     "data": {
      "text/html": [
       "<div>\n",
       "<style scoped>\n",
       "    .dataframe tbody tr th:only-of-type {\n",
       "        vertical-align: middle;\n",
       "    }\n",
       "\n",
       "    .dataframe tbody tr th {\n",
       "        vertical-align: top;\n",
       "    }\n",
       "\n",
       "    .dataframe thead th {\n",
       "        text-align: right;\n",
       "    }\n",
       "</style>\n",
       "<table border=\"1\" class=\"dataframe\">\n",
       "  <thead>\n",
       "    <tr style=\"text-align: right;\">\n",
       "      <th></th>\n",
       "      <th>Loyalty Number</th>\n",
       "      <th>First Name</th>\n",
       "      <th>Last Name</th>\n",
       "      <th>Customer Name</th>\n",
       "      <th>Country</th>\n",
       "      <th>Province or State</th>\n",
       "      <th>StateAbbr</th>\n",
       "      <th>City</th>\n",
       "      <th>Latitude</th>\n",
       "      <th>Longitude</th>\n",
       "      <th>...</th>\n",
       "      <th>Coupon Response</th>\n",
       "      <th>Coupon Count</th>\n",
       "      <th>Quantity Sold</th>\n",
       "      <th>Target Sales</th>\n",
       "      <th>Unit Sale Price</th>\n",
       "      <th>Unit Cost</th>\n",
       "      <th>Revenue</th>\n",
       "      <th>Planned Revenue</th>\n",
       "      <th>Customer Lifetime Value</th>\n",
       "      <th>Loyalty Count</th>\n",
       "    </tr>\n",
       "  </thead>\n",
       "  <tbody>\n",
       "    <tr>\n",
       "      <th>0</th>\n",
       "      <td>100018</td>\n",
       "      <td>Mina</td>\n",
       "      <td>Smida</td>\n",
       "      <td>Mina Smida</td>\n",
       "      <td>Canada</td>\n",
       "      <td>Alberta</td>\n",
       "      <td>AB</td>\n",
       "      <td>Edmonton</td>\n",
       "      <td>53.544389</td>\n",
       "      <td>-113.490927</td>\n",
       "      <td>...</td>\n",
       "      <td>Coupon 2</td>\n",
       "      <td>1</td>\n",
       "      <td>3</td>\n",
       "      <td>3</td>\n",
       "      <td>136</td>\n",
       "      <td>115.6</td>\n",
       "      <td>408</td>\n",
       "      <td>399.84</td>\n",
       "      <td>7919.2</td>\n",
       "      <td>1</td>\n",
       "    </tr>\n",
       "    <tr>\n",
       "      <th>1</th>\n",
       "      <td>100018</td>\n",
       "      <td>Mina</td>\n",
       "      <td>Smida</td>\n",
       "      <td>Mina Smida</td>\n",
       "      <td>Canada</td>\n",
       "      <td>Alberta</td>\n",
       "      <td>AB</td>\n",
       "      <td>Edmonton</td>\n",
       "      <td>53.544389</td>\n",
       "      <td>-113.490927</td>\n",
       "      <td>...</td>\n",
       "      <td>Coupon 2</td>\n",
       "      <td>1</td>\n",
       "      <td>3</td>\n",
       "      <td>1</td>\n",
       "      <td>136</td>\n",
       "      <td>115.6</td>\n",
       "      <td>408</td>\n",
       "      <td>403.92</td>\n",
       "      <td>7919.2</td>\n",
       "      <td>1</td>\n",
       "    </tr>\n",
       "    <tr>\n",
       "      <th>2</th>\n",
       "      <td>100018</td>\n",
       "      <td>Mina</td>\n",
       "      <td>Smida</td>\n",
       "      <td>Mina Smida</td>\n",
       "      <td>Canada</td>\n",
       "      <td>Alberta</td>\n",
       "      <td>AB</td>\n",
       "      <td>Edmonton</td>\n",
       "      <td>53.544389</td>\n",
       "      <td>-113.490927</td>\n",
       "      <td>...</td>\n",
       "      <td>Coupon 2</td>\n",
       "      <td>1</td>\n",
       "      <td>3</td>\n",
       "      <td>2</td>\n",
       "      <td>136</td>\n",
       "      <td>115.6</td>\n",
       "      <td>408</td>\n",
       "      <td>399.84</td>\n",
       "      <td>7919.2</td>\n",
       "      <td>1</td>\n",
       "    </tr>\n",
       "  </tbody>\n",
       "</table>\n",
       "<p>3 rows × 29 columns</p>\n",
       "</div>"
      ],
      "text/plain": [
       "   Loyalty Number First Name Last Name Customer Name Country  \\\n",
       "0          100018       Mina     Smida    Mina Smida  Canada   \n",
       "1          100018       Mina     Smida    Mina Smida  Canada   \n",
       "2          100018       Mina     Smida    Mina Smida  Canada   \n",
       "\n",
       "  Province or State StateAbbr      City   Latitude   Longitude  ...  \\\n",
       "0           Alberta        AB  Edmonton  53.544389 -113.490927  ...   \n",
       "1           Alberta        AB  Edmonton  53.544389 -113.490927  ...   \n",
       "2           Alberta        AB  Edmonton  53.544389 -113.490927  ...   \n",
       "\n",
       "  Coupon Response Coupon Count Quantity Sold  Target Sales  Unit Sale Price  \\\n",
       "0        Coupon 2            1             3             3              136   \n",
       "1        Coupon 2            1             3             1              136   \n",
       "2        Coupon 2            1             3             2              136   \n",
       "\n",
       "  Unit Cost  Revenue Planned Revenue Customer Lifetime Value Loyalty Count  \n",
       "0     115.6      408          399.84                  7919.2             1  \n",
       "1     115.6      408          403.92                  7919.2             1  \n",
       "2     115.6      408          399.84                  7919.2             1  \n",
       "\n",
       "[3 rows x 29 columns]"
      ]
     },
     "execution_count": 6,
     "metadata": {},
     "output_type": "execute_result"
    }
   ],
   "source": [
    "Cust_data.head(3)"
   ]
  },
  {
   "cell_type": "code",
   "execution_count": 7,
   "id": "74bcbb47-18c6-4168-bcb7-b6656a7c4a00",
   "metadata": {},
   "outputs": [
    {
     "data": {
      "text/plain": [
       "Index(['Loyalty Number', 'First Name', 'Last Name', 'Customer Name', 'Country',\n",
       "       'Province or State', 'StateAbbr', 'City', 'Latitude', 'Longitude',\n",
       "       'Postal Code', 'Education', 'Location Code', 'Income', 'Order Year',\n",
       "       'Quarter', 'MonthsAsMember', 'LoyaltyStatus', 'Product Line',\n",
       "       'Coupon Response', 'Coupon Count', 'Quantity Sold', 'Target Sales',\n",
       "       'Unit Sale Price', 'Unit Cost', 'Revenue', 'Planned Revenue',\n",
       "       'Customer Lifetime Value', 'Loyalty Count'],\n",
       "      dtype='object')"
      ]
     },
     "execution_count": 7,
     "metadata": {},
     "output_type": "execute_result"
    }
   ],
   "source": [
    "Cust_data.columns"
   ]
  },
  {
   "cell_type": "code",
   "execution_count": 9,
   "id": "f9f4c6fc-0d1d-4b31-9bd6-9e417cf883da",
   "metadata": {},
   "outputs": [
    {
     "name": "stdout",
     "output_type": "stream",
     "text": [
      "<class 'pandas.core.frame.DataFrame'>\n",
      "RangeIndex: 127486 entries, 0 to 127485\n",
      "Data columns (total 29 columns):\n",
      " #   Column                   Non-Null Count   Dtype  \n",
      "---  ------                   --------------   -----  \n",
      " 0   Loyalty Number           127486 non-null  int64  \n",
      " 1   First Name               127486 non-null  object \n",
      " 2   Last Name                127486 non-null  object \n",
      " 3   Customer Name            127486 non-null  object \n",
      " 4   Country                  127486 non-null  object \n",
      " 5   Province or State        127486 non-null  object \n",
      " 6   StateAbbr                127486 non-null  object \n",
      " 7   City                     127486 non-null  object \n",
      " 8   Latitude                 127475 non-null  float64\n",
      " 9   Longitude                127475 non-null  float64\n",
      " 10  Postal Code              127486 non-null  object \n",
      " 11  Education                127486 non-null  object \n",
      " 12  Location Code            127486 non-null  object \n",
      " 13  Income                   127486 non-null  int64  \n",
      " 14  Order Year               127486 non-null  int64  \n",
      " 15  Quarter                  127486 non-null  object \n",
      " 16  MonthsAsMember           127486 non-null  int64  \n",
      " 17  LoyaltyStatus            127486 non-null  object \n",
      " 18  Product Line             127486 non-null  object \n",
      " 19  Coupon Response          127486 non-null  object \n",
      " 20  Coupon Count             127486 non-null  int64  \n",
      " 21  Quantity Sold            127486 non-null  int64  \n",
      " 22  Target Sales             127486 non-null  int64  \n",
      " 23  Unit Sale Price          127486 non-null  int64  \n",
      " 24  Unit Cost                127486 non-null  float64\n",
      " 25  Revenue                  127486 non-null  int64  \n",
      " 26  Planned Revenue          127486 non-null  float64\n",
      " 27  Customer Lifetime Value  127486 non-null  float64\n",
      " 28  Loyalty Count            127486 non-null  int64  \n",
      "dtypes: float64(5), int64(10), object(14)\n",
      "memory usage: 28.2+ MB\n"
     ]
    }
   ],
   "source": [
    "Cust_data.info()"
   ]
  },
  {
   "cell_type": "code",
   "execution_count": 10,
   "id": "4de95de3-4974-406a-8f35-738b9e3ba25f",
   "metadata": {},
   "outputs": [],
   "source": [
    "#From 2016-2021, which ORDER_YEAR had the lowest QUANTITY_SO0LD for Photography products?\n",
    "f_Cust_data = Cust_data[(Cust_data['Product Line'] == 'Photography') & \n",
    "                  (Cust_data['Order Year'].between(2016, 2021))]\n"
   ]
  },
  {
   "cell_type": "code",
   "execution_count": 11,
   "id": "06f8cb23-1e4d-42ce-be1d-783ae2cd726b",
   "metadata": {},
   "outputs": [],
   "source": [
    "# group by , sum >> quantity sold\n",
    "year_sales = f_Cust_data.groupby('Order Year')['Quantity Sold'].sum().reset_index()\n",
    "year_sales.rename(columns={'Quantity Sold': 'sales_per_year'}, inplace=True)"
   ]
  },
  {
   "cell_type": "code",
   "execution_count": 12,
   "id": "288f0d98-1be4-4521-9283-62dc3eb39c97",
   "metadata": {},
   "outputs": [],
   "source": [
    "min_sales = year_sales['sales_per_year'].min()"
   ]
  },
  {
   "cell_type": "code",
   "execution_count": 13,
   "id": "455bce4c-470a-4147-96c7-78e5dfaed321",
   "metadata": {},
   "outputs": [
    {
     "name": "stdout",
     "output_type": "stream",
     "text": [
      "1    2017\n",
      "Name: Order Year, dtype: int64\n"
     ]
    }
   ],
   "source": [
    "result = year_sales[year_sales['sales_per_year'] == min_sales]['Order Year']\n",
    "\n",
    "print(result)"
   ]
  },
  {
   "cell_type": "code",
   "execution_count": 8,
   "id": "0e8542db-387e-4086-9c46-c8df4edc8d9e",
   "metadata": {},
   "outputs": [
    {
     "name": "stdout",
     "output_type": "stream",
     "text": [
      "2017\n"
     ]
    }
   ],
   "source": [
    "# first question\n",
    "# From 2016-2021, which ORDER_YEAR had the lowest QUANTITY_SO0LD for Photography products?\n",
    "photography_sales = Cust_data[(Cust_data['Product Line'] == 'Photography') & (Cust_data['Order Year'].between(2016, 2021))]\n",
    "lowest_quantity_year = photography_sales.groupby('Order Year')['Quantity Sold'].sum().idxmin()\n",
    "print(lowest_quantity_year)\n"
   ]
  },
  {
   "cell_type": "code",
   "execution_count": 9,
   "id": "1e2eb63b-27f4-45ce-b238-086763645f57",
   "metadata": {},
   "outputs": [
    {
     "name": "stdout",
     "output_type": "stream",
     "text": [
      "TV and Video Gaming\n"
     ]
    }
   ],
   "source": [
    "# second question\n",
    "# Which PRODUCT_LINE has the highest QUANTITY_SOLD?\n",
    "highest_product_line = Cust_data.groupby('Product Line')['Quantity Sold'].sum().idxmax()\n",
    "print(highest_product_line)\n"
   ]
  },
  {
   "cell_type": "code",
   "execution_count": 10,
   "id": "beb23fe3-3dc1-4a10-8b17-4eb771cd9f33",
   "metadata": {},
   "outputs": [
    {
     "name": "stdout",
     "output_type": "stream",
     "text": [
      "Bachelor\n"
     ]
    }
   ],
   "source": [
    "# third question\n",
    "# Which EDUCATION of the loyalty members had the highest amount of QUANTITY_SOLD in 2020?\n",
    "\n",
    "education_sales_2020 = Cust_data[Cust_data['Order Year'] == 2020]\n",
    "highest_education = education_sales_2020.groupby('Education')['Quantity Sold'].sum().idxmax()\n",
    "print(highest_education)\n"
   ]
  },
  {
   "cell_type": "code",
   "execution_count": 11,
   "id": "af7f133e-dd58-4616-94f3-90ba56124f0d",
   "metadata": {},
   "outputs": [
    {
     "name": "stdout",
     "output_type": "stream",
     "text": [
      "Gil Frever\n"
     ]
    }
   ],
   "source": [
    "# fourth question \n",
    "# What is the CUSTOMER_NAME who provided the highest REVENUE in 2022?\n",
    "revenue_2022 =  Cust_data[ Cust_data['Order Year'] == 2022]\n",
    "highest_revenue_customer = revenue_2022.groupby('Customer Name')['Revenue'].sum().idxmax()\n",
    "print(highest_revenue_customer)\n"
   ]
  },
  {
   "cell_type": "code",
   "execution_count": null,
   "id": "c364bb6a-dad6-4be2-b7ad-ff316bf1d468",
   "metadata": {},
   "outputs": [],
   "source": []
  }
 ],
 "metadata": {
  "kernelspec": {
   "display_name": "Python 3 (ipykernel)",
   "language": "python",
   "name": "python3"
  },
  "language_info": {
   "codemirror_mode": {
    "name": "ipython",
    "version": 3
   },
   "file_extension": ".py",
   "mimetype": "text/x-python",
   "name": "python",
   "nbconvert_exporter": "python",
   "pygments_lexer": "ipython3",
   "version": "3.12.1"
  }
 },
 "nbformat": 4,
 "nbformat_minor": 5
}
